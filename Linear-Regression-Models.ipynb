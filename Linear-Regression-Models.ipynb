{
 "cells": [
  {
   "cell_type": "markdown",
   "id": "15eb176d",
   "metadata": {},
   "source": [
    "### Maxwell's equation for the magnetic field strength. \n",
    "Values for variation: E from 300 to 3000 step 10, sigma from 0.1 to 1.0 step 0.1, H_R = 5000, tube radius R=0.012m.\n",
    "\n",
    "Predict H(0) by linear regression. We evaluate the quality of the model."
   ]
  },
  {
   "cell_type": "code",
   "execution_count": 1,
   "id": "d890d8f7",
   "metadata": {},
   "outputs": [],
   "source": [
    "import os\n",
    "import numpy as np\n",
    "import pandas as pd\n",
    "\n",
    "import matplotlib.pyplot as plt\n",
    "import seaborn as sns\n",
    "\n",
    "from sklearn.model_selection import train_test_split\n",
    "from sklearn.linear_model import LinearRegression\n",
    "from sklearn.metrics import mean_absolute_error,mean_squared_error\n",
    "from sklearn.preprocessing import StandardScaler\n",
    "from sklearn.preprocessing import PolynomialFeatures\n",
    "\n",
    "from joblib import dump, load"
   ]
  },
  {
   "cell_type": "code",
   "execution_count": 2,
   "id": "950c80f0",
   "metadata": {},
   "outputs": [],
   "source": [
    "class Plasmatron():\n",
    "    \n",
    "    '''Setting model parameters and the solution of the equation'''\n",
    "    \n",
    "    def __init__(self, H_R=5000, R=0.012, N=200, h=0.0000038):\n",
    "        '''Parameter initialization'''\n",
    "        self.H_R = H_R\n",
    "        self.R = R\n",
    "        self.N = N\n",
    "        self.h = h\n",
    "\n",
    "        self.sigma_start = 0.1\n",
    "        self.sigma_end = 1.01\n",
    "        self.sigma_step = 0.1\n",
    "\n",
    "        self.E_start = 300\n",
    "        self.E_end = 3001\n",
    "        self.E_step = 10\n",
    "        \n",
    "        self.sigma = np.array([round(i, 1) for i in np.arange(self.sigma_start, self.sigma_end, self.sigma_step)])\n",
    "        self.E = np.array(range(self.E_start, self.E_end, self.E_step))\n",
    "    \n",
    "    def sweep(self, sigma, N, R, h, E, H_R):\n",
    "        '''Equation solution'''\n",
    "        A = np.zeros(N)\n",
    "        B = np.zeros(N)\n",
    "        C = np.zeros(N)\n",
    "        F = np.zeros(N)\n",
    "\n",
    "        r = np.linspace(h, R, N)\n",
    "        V = 1 / sigma\n",
    "\n",
    "        for i in range(0, N):\n",
    "            r_imh = r[i] - h / 2\n",
    "            r_iph = r[i] + h / 2\n",
    "            V_imh = (V)\n",
    "            V_iph = (V)\n",
    "            f_i = 2 * sigma * E ** 2\n",
    "            A[i] = r[i] * V_iph\n",
    "            B[i] = r_iph * V_iph\n",
    "            C[i] = r_imh * V_imh + B[i]\n",
    "            F[i] = -r[i] * f_i * h ** 2\n",
    "\n",
    "        H     = np.zeros(N)\n",
    "        alpha = np.zeros(N)\n",
    "        beta  = np.zeros(N)\n",
    "\n",
    "        beta[N - 1] = H_R\n",
    "\n",
    "        for i in reversed(range(0, N - 1)):\n",
    "            alpha[i] = A[i] / (C[i] - B[i] * alpha[i + 1])\n",
    "            beta[i] = (B[i] * beta[i + 1] + F[i]) / (C[i] - B[i] * alpha[i + 1])\n",
    "\n",
    "        H[0] = (beta[0] - alpha[0] * beta[1]) / (1 - alpha[0] * alpha[1])\n",
    "\n",
    "        for i in range(1, N - 1):\n",
    "            H[i + 1] = alpha[i + 1] * H[i] + beta[i + 1]\n",
    "        return H, r\n",
    "    \n",
    "    def Computingdata(self):\n",
    "        '''Computing'''\n",
    "        \n",
    "        self.filename = 'data.xlsx' \n",
    "        self.file_path = os.path.join(os.getcwd(), self.filename)\n",
    "        \n",
    "        if os.path.exists(self.file_path):\n",
    "            df = pd.read_excel(self.file_path)\n",
    "        else:\n",
    "            df = pd.DataFrame(columns=['H', 'R', 'E', 'sigma'])\n",
    "\n",
    "            sigma = self.sigma\n",
    "            H_R = self.H_R\n",
    "            E = self.E\n",
    "            N = self.N\n",
    "            R = self.R\n",
    "            h = self.h\n",
    "\n",
    "            H_list = []\n",
    "            R_list = []\n",
    "            E_list = []\n",
    "            sigma_list = []\n",
    "\n",
    "            for s in sigma:\n",
    "                for e in E:\n",
    "                    for i in range(1, N):\n",
    "                        H, r = self.sweep(s, N, R, h, e, H_R)\n",
    "                        H_list.append(H[i])\n",
    "                        R_list.append(r[i])\n",
    "                        E_list.append(e)\n",
    "                        sigma_list.append(s)\n",
    "\n",
    "            H_list = H_list/max(H_list)\n",
    "            R_list = R_list/max(R_list)\n",
    "            E_list = E_list/max(E_list)\n",
    "            sigma_list = sigma_list/max(sigma_list)\n",
    "\n",
    "            df = pd.DataFrame({'H': H_list, 'R': R_list, 'E': E_list, 'sigma': sigma_list})\n",
    "            df = df.loc[df['H'] > 0]\n",
    "            df.to_excel('data.xlsx', index=False)\n",
    "        \n",
    "        return df"
   ]
  },
  {
   "cell_type": "code",
   "execution_count": 3,
   "id": "12ac9a6a",
   "metadata": {},
   "outputs": [],
   "source": [
    "class DataExploration():\n",
    "    '''Graphs. Relationships between features'''\n",
    "    def __init__(self, df):\n",
    "        self.df = df\n",
    "        \n",
    "    def charts(self):\n",
    "        sns.pairplot(df,diag_kind='kde')"
   ]
  },
  {
   "cell_type": "code",
   "execution_count": 29,
   "id": "1327bc83",
   "metadata": {},
   "outputs": [],
   "source": [
    "class LRModel():\n",
    "    '''Initializing the Linear Regression Model'''\n",
    "    def __init__(self, df):\n",
    "        self.df = df\n",
    "        \n",
    "        self.X = df.drop('H',axis=1)\n",
    "        self.y = df['H']\n",
    "        \n",
    "        self.X_train, self.X_test, self.y_train, self.y_test = train_test_split(self.X, self.y, test_size=0.3, random_state=101)\n",
    "        \n",
    "    def usual(self):\n",
    "                        \n",
    "        model = LinearRegression()\n",
    "        model.fit(self.X_train, self.y_train)\n",
    "        \n",
    "        test_predictions = model.predict(self.X_test)\n",
    "        \n",
    "        MAE = mean_absolute_error(self.y_test, test_predictions)\n",
    "        MSE = mean_squared_error(self.y_test, test_predictions)\n",
    "        RMSE = np.sqrt(MSE)\n",
    "\n",
    "        print('Metrics usual model ','MAE :', MAE, 'MSE :', MSE, 'RMSE :', RMSE)\n",
    "        \n",
    "        filename = 'usual_model.joblib' \n",
    "        file_path = os.path.join(os.getcwd(), filename)\n",
    "        \n",
    "        if os.path.exists(file_path):\n",
    "            usual_model = load('usual_model.joblib')\n",
    "        else:\n",
    "            usual_model = LinearRegression()\n",
    "            usual_model.fit(self.X,self.y)\n",
    "            dump(usual_model, 'usual_model.joblib') \n",
    "        \n",
    "        coeff_df = pd.DataFrame(usual_model.coef_,self.X.columns,columns=['Coefficient'])\n",
    "\n",
    "        return usual_model\n",
    "        \n",
    "        \n",
    "    def polynom(self):\n",
    "        \n",
    "        train_rmse_errors = []\n",
    "        test_rmse_errors = []\n",
    "\n",
    "        for d in range(1,10):\n",
    "\n",
    "            polynomial_converter = PolynomialFeatures(degree=d,include_bias=False)\n",
    "            poly_features = polynomial_converter.fit_transform(self.X)\n",
    "\n",
    "            X_train, X_test, y_train, y_test = train_test_split(poly_features, self.y, test_size=0.3, random_state=101)\n",
    "\n",
    "            model = LinearRegression(fit_intercept=True)\n",
    "            model.fit(X_train,y_train)\n",
    "\n",
    "            train_pred = model.predict(X_train)\n",
    "            test_pred = model.predict(X_test)\n",
    "\n",
    "            train_RMSE = np.sqrt(mean_squared_error(y_train,train_pred))\n",
    "            test_RMSE = np.sqrt(mean_squared_error(y_test,test_pred))\n",
    "\n",
    "            train_rmse_errors.append(train_RMSE)\n",
    "            test_rmse_errors.append(test_RMSE)\n",
    "            \n",
    "            print('Metrics polynom = ' + str(d) + ' model ','train_RMSE :', train_RMSE, 'test_RMSE :', test_RMSE)\n",
    "            \n",
    "        plt.plot(range(1,10),train_rmse_errors,label='TRAIN')\n",
    "        plt.plot(range(1,10),test_rmse_errors,label='TEST')\n",
    "        plt.xlabel(\"Polynomial Complexity\")\n",
    "        plt.ylabel(\"RMSE\")\n",
    "        plt.legend()\n",
    "        plt.show()\n",
    "        \n",
    "        filename = 'poly_model.joblib' \n",
    "        file_path = os.path.join(os.getcwd(), filename)\n",
    "        \n",
    "        if os.path.exists(file_path):\n",
    "            \n",
    "            loaded_poly = load('poly_converter.joblib')\n",
    "            loaded_model = load('poly_model.joblib')\n",
    "            \n",
    "        else:\n",
    "        \n",
    "            final_poly_converter = PolynomialFeatures(degree=3,include_bias=False)\n",
    "            final_model = LinearRegression()\n",
    "            final_model.fit(final_poly_converter.fit_transform(self.X),self.y)\n",
    "\n",
    "            dump(final_model, 'poly_model.joblib') \n",
    "            dump(final_poly_converter,'poly_converter.joblib')\n",
    "        \n",
    "        return final_model, final_poly_converter\n",
    "        \n",
    "    \n",
    "    def reg(self):\n",
    "        \n",
    "        pass\n",
    "    \n",
    "    \n",
    "    def model_4(self):\n",
    "        \n",
    "        pass\n",
    "        "
   ]
  },
  {
   "cell_type": "code",
   "execution_count": null,
   "id": "cfa2e3e9",
   "metadata": {},
   "outputs": [],
   "source": [
    "Plasma_model = Plasmatron()"
   ]
  },
  {
   "cell_type": "code",
   "execution_count": null,
   "id": "61d5f839",
   "metadata": {},
   "outputs": [],
   "source": [
    "df = Plasma_model.Computingdata()"
   ]
  },
  {
   "cell_type": "code",
   "execution_count": null,
   "id": "b51214d7",
   "metadata": {},
   "outputs": [],
   "source": [
    "DataExploration.charts(df)"
   ]
  },
  {
   "cell_type": "code",
   "execution_count": 27,
   "id": "6e281cf1",
   "metadata": {},
   "outputs": [
    {
     "name": "stdout",
     "output_type": "stream",
     "text": [
      "Metrics usual model  MAE : 0.022949896005962936 MSE : 0.000709170457150192 RMSE : 0.026630254545351083\n"
     ]
    },
    {
     "name": "stderr",
     "output_type": "stream",
     "text": [
      "C:\\Users\\Virtus\\anaconda3\\lib\\site-packages\\sklearn\\base.py:450: UserWarning: X does not have valid feature names, but LinearRegression was fitted with feature names\n",
      "  warnings.warn(\n"
     ]
    },
    {
     "data": {
      "text/plain": [
       "array([1.06329773])"
      ]
     },
     "execution_count": 27,
     "metadata": {},
     "output_type": "execute_result"
    }
   ],
   "source": [
    "# Regular model sklearn\n",
    "LR = LRModel(df)\n",
    "model = LR.usual()\n",
    "signs = [[1,2,3]]\n",
    "model.predict(signs)"
   ]
  },
  {
   "cell_type": "code",
   "execution_count": 30,
   "id": "a35702b9",
   "metadata": {},
   "outputs": [
    {
     "name": "stdout",
     "output_type": "stream",
     "text": [
      "Metrics polynom = 1 model  train_RMSE : 0.026627097017832866 test_RMSE : 0.02663025454535069\n",
      "Metrics polynom = 2 model  train_RMSE : 0.0029194219311113536 test_RMSE : 0.0029207327203035036\n",
      "Metrics polynom = 3 model  train_RMSE : 0.00036162177241201424 test_RMSE : 0.0003614702856965416\n",
      "Metrics polynom = 4 model  train_RMSE : 1.6031696034261443e-05 test_RMSE : 1.6022733041868874e-05\n",
      "Metrics polynom = 5 model  train_RMSE : 4.058044356646781e-07 test_RMSE : 4.071557630453857e-07\n",
      "Metrics polynom = 6 model  train_RMSE : 8.419138959867331e-09 test_RMSE : 8.468655105770876e-09\n",
      "Metrics polynom = 7 model  train_RMSE : 5.454265936030024e-10 test_RMSE : 5.456085031861092e-10\n",
      "Metrics polynom = 8 model  train_RMSE : 2.637610623281716e-11 test_RMSE : 2.6607284301653752e-11\n",
      "Metrics polynom = 9 model  train_RMSE : 1.1997631179393698e-11 test_RMSE : 1.1994449317397688e-11\n"
     ]
    },
    {
     "data": {
      "image/png": "[encoded data removed]",
      "text/plain": [
       "<Figure size 640x480 with 1 Axes>"
      ]
     },
     "metadata": {},
     "output_type": "display_data"
    },
    {
     "name": "stderr",
     "output_type": "stream",
     "text": [
      "C:\\Users\\Virtus\\anaconda3\\lib\\site-packages\\sklearn\\base.py:450: UserWarning: X does not have valid feature names, but PolynomialFeatures was fitted with feature names\n",
      "  warnings.warn(\n"
     ]
    },
    {
     "data": {
      "text/plain": [
       "array([1.0001147])"
      ]
     },
     "execution_count": 30,
     "metadata": {},
     "output_type": "execute_result"
    }
   ],
   "source": [
    "# Polynomial Regression\n",
    "LR = LRModel(df)\n",
    "model, loaded_poly = LR.polynom()\n",
    "signs = [[1,2,3]]\n",
    "signs_poly = loaded_poly.transform(signs)\n",
    "model.predict(signs_poly)"
   ]
  },
  {
   "cell_type": "code",
   "execution_count": null,
   "id": "4411e5c6",
   "metadata": {},
   "outputs": [],
   "source": [
    "# Regularization "
   ]
  }
 ],
 "metadata": {
  "kernelspec": {
   "display_name": "Python 3 (ipykernel)",
   "language": "python",
   "name": "python3"
  },
  "language_info": {
   "codemirror_mode": {
    "name": "ipython",
    "version": 3
   },
   "file_extension": ".py",
   "mimetype": "text/x-python",
   "name": "python",
   "nbconvert_exporter": "python",
   "pygments_lexer": "ipython3",
   "version": "3.9.13"
  }
 },
 "nbformat": 4,
 "nbformat_minor": 5
}
